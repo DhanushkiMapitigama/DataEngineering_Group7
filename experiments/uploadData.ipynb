{
 "cells": [
  {
   "cell_type": "code",
   "execution_count": 2,
   "id": "a894da63-7b37-476b-a843-5697f07be853",
   "metadata": {
    "tags": []
   },
   "outputs": [],
   "source": [
    "import pyspark\n",
    "from pyspark.sql import SparkSession\n",
    "\n",
    "spark_session = SparkSession.builder\\\n",
    "    .master(\"spark://192.168.2.102:7077\") \\\n",
    "    .appName(\"UploadData\")\\\n",
    "    .getOrCreate()\n",
    "\n",
    "sc = spark_session.sparkContext\n"
   ]
  },
  {
   "cell_type": "code",
   "execution_count": 3,
   "id": "fcd72b87-5ff6-4b7a-9327-6d19897312d1",
   "metadata": {
    "tags": []
   },
   "outputs": [],
   "source": [
    "test = sc.textFile"
   ]
  },
  {
   "cell_type": "code",
   "execution_count": 4,
   "id": "f9051f6c-b3ce-4181-934d-6284f6363b24",
   "metadata": {
    "tags": []
   },
   "outputs": [],
   "source": [
    "spark_session.stop()"
   ]
  },
  {
   "cell_type": "code",
   "execution_count": null,
   "id": "d24d3fb9-8b5e-4096-8716-8331f5909cc9",
   "metadata": {},
   "outputs": [],
   "source": [
    "import os\n",
    "import tempfile\n",
    "import requests\n",
    "from hdfs import InsecureClient\n",
    "\n",
    "# Download the file\n",
    "url = 'https://files.pushshift.io/reddit/comments/RC_2005-12.zst'\n",
    "response = requests.get(url)\n",
    "\n",
    "# Save the file to a temporary location\n",
    "with tempfile.NamedTemporaryFile(delete=False) as temp_file:\n",
    "    temp_file.write(response.content)\n",
    "    temp_file_path = temp_file.name\n",
    "\n",
    "# Upload the file to HDFS\n",
    "hdfs_path = '/path/to/your/hdfs/directory/file.csv'\n",
    "hdfs_url = 'http://192.168.2.102:50070'  # Replace with your HDFS NameNode URL and port\n",
    "\n",
    "client = InsecureClient(hdfs_url)\n",
    "client.upload(hdfs_path, temp_file_path)\n",
    "\n",
    "# Remove the temporary file from the local filesystem\n",
    "os.unlink(temp_file_path)"
   ]
  }
 ],
 "metadata": {
  "kernelspec": {
   "display_name": "Python 3 (ipykernel)",
   "language": "python",
   "name": "python3"
  },
  "language_info": {
   "codemirror_mode": {
    "name": "ipython",
    "version": 3
   },
   "file_extension": ".py",
   "mimetype": "text/x-python",
   "name": "python",
   "nbconvert_exporter": "python",
   "pygments_lexer": "ipython3",
   "version": "3.9.2"
  }
 },
 "nbformat": 4,
 "nbformat_minor": 5
}
