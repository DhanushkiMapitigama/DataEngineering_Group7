{
 "cells": [
  {
   "cell_type": "code",
   "execution_count": 1,
   "id": "4ac63eea-c8d0-428c-93e1-c11620e48885",
   "metadata": {},
   "outputs": [],
   "source": [
    "from pyspark.sql import SparkSession,SQLContext\n",
    "from pyspark.sql.functions import *\n",
    "from pyspark.ml import Pipeline\n",
    "import time\n",
    "from operator import add\n",
    "from pyspark import SparkConf, SparkContext\n",
    "from pyspark_dist_explore import hist\n",
    "import matplotlib.pyplot as plt\n",
    "import dataframe_image as dfi\n",
    "from pyspark.sql.types import IntegerType\n",
    "from pyspark.ml import Pipeline\n",
    "import numpy as np\n",
    "from pyspark.ml.feature import HashingTF, IDF, Tokenizer, CountVectorizer, StopWordsRemover"
   ]
  },
  {
   "cell_type": "code",
   "execution_count": 2,
   "id": "de89d624-ebed-4233-a644-647cc6f11bc0",
   "metadata": {
    "tags": []
   },
   "outputs": [],
   "source": [
    "def preprocess(rdd):\n",
    "    rdd= rdd.split(\" \")\n",
    "    entries = 0 \n",
    "    rddnew=[]\n",
    "    for x in rdd:\n",
    "        entries += 1\n",
    "        if \".\" in x:\n",
    "            x=x.replace(\".\",\"\")\n",
    "        if \":\" in x:\n",
    "            x=x.replace(\":\",\"\")\n",
    "        if \",\" in x:\n",
    "            x=x.replace(\",\",\"\")\n",
    "        if \" \" in x:\n",
    "            x=x.replace(\" \",\"\")\n",
    "        if '\"' in x:\n",
    "            x=x.replace('\"',\"\")\n",
    "        if \"\\n\" in x:\n",
    "            x=x.replace(\"\\n\",\" \")\n",
    "        rddnew.append(x.lower())\n",
    "    print(entries)\n",
    "    return rddnew"
   ]
  },
  {
   "cell_type": "code",
   "execution_count": 3,
   "id": "50b0488b-1a33-408e-93ab-34dc8ba76944",
   "metadata": {
    "tags": []
   },
   "outputs": [],
   "source": [
    "Sample_ratio=0.001 #Change this sample ratio to obtain running time of about 2mins\n",
    "\n",
    "def get_most_popular(df):\n",
    "    df=df.sample(Sample_ratio) \n",
    "    #Get df with 20 most popular (defined by number of comments) subreddits.\n",
    "    subreddits = df.select(\"Subreddit\").rdd.flatMap(lambda x:x).map(lambda x: (x,1)).reduceByKey(add).toDF([\"Subreddit\",\"comment_count\"]).sort(\"comment_count\",ascending=False).limit(20)\n",
    "\n",
    "    #Get df with average comment lenght for those 20 most popular\n",
    "    top_subreddits = subreddits.select(\"Subreddit\").rdd.flatMap(lambda x:x).collect()\n",
    "    top_subreddits_average_lenght=[]\n",
    "    for x in top_subreddits:\n",
    "\n",
    "        top_subreddits_average_lenght.append(int(df.where(df[\"Subreddit\"]==x).select(\"body\").rdd.flatMap(lambda x:x).map(lambda x: x.split(\" \")).map(lambda x: len(x)).mean()))\n",
    "\n",
    "    z=zip(top_subreddits_average_lenght,top_subreddits)\n",
    "    \n",
    "    df1=spark.createDataFrame(z,[\"average_lenght\",\"Subreddit\"])\n",
    "    #Join the two dataframes\n",
    "    df2=df1.join(subreddits,\"Subreddit\")\n",
    "    pandas_df=df2.toPandas()\n",
    "\n",
    "    df_styled = pandas_df.style.background_gradient().hide(axis=\"index\")\n",
    "    #dfi.export(df_styled,\"popular.png\",fontsize=3.8, dpi=800,  table_conversion='chrome', chrome_path=None)\n",
    "    return df_styled\n",
    "\n",
    "def get_groups(df):\n",
    "    df=df.sample(Sample_ratio)\n",
    "    #concatenate comments by subreddit\n",
    "    subreddits = df.select(\"Subreddit\").rdd.flatMap(lambda x:x).map(lambda x: (x,1)).reduceByKey(add).toDF([\"Subreddit\",\"comment_count\"]).sort(\"comment_count\",ascending=False).limit(20)\n",
    "\n",
    "    #Get df with average comment lenght for those 20 most popular\n",
    "    top_subreddits = subreddits.select(\"Subreddit\").rdd.flatMap(lambda x:x).collect()\n",
    "    df4=df.filter(df.subreddit.isin(top_subreddits)).select(\"Subreddit\", \"body\").rdd.map(lambda x:x).map(lambda x: (x[0],x[1])).reduceByKey(add)\n",
    "    df5=df4.toDF()\n",
    "\n",
    "    #run pipeline\n",
    "    \n",
    "    tokenizer = Tokenizer(inputCol=\"_2\", outputCol=\"tokens\")\n",
    "    remover = StopWordsRemover(inputCol=\"tokens\", outputCol=\"stopWordsRemovedTokens\")\n",
    "    hashingTF = HashingTF(inputCol=\"stopWordsRemovedTokens\", outputCol=\"rawFeatures\", numFeatures=2000)\n",
    "    idf = IDF(inputCol=\"rawFeatures\", outputCol=\"features\", minDocFreq=5)\n",
    "    from pyspark.ml.clustering import KMeans\n",
    "    kmeans = KMeans(k=2)\n",
    "\n",
    "    from pyspark.ml import Pipeline\n",
    "    pipeline = Pipeline(stages=[tokenizer,remover,hashingTF,idf,kmeans])\n",
    "    model = pipeline.fit(df5)\n",
    "    results = model.transform(df5)\n",
    "\n",
    "    #Merge cluster with previous table\n",
    "    df3=results.selectExpr(\"_1 as Subreddit\", \"prediction as group\").sort(\"group\").toPandas()\n",
    "    df_styled = df3.style.background_gradient().hide(axis=\"index\")\n",
    "    #dfi.export(df_styled,\"groups.png\",fontsize=3.8, dpi=800,  table_conversion='chrome', chrome_path=None)\n",
    "    return df_styled\n",
    "\n",
    "#time in the day of comments\n",
    "def get_comments_time(df):\n",
    "    \n",
    "    fig, ax = plt.subplots()\n",
    "\n",
    "    hist(ax, df.select('hour'), bins = 24, color=['grey'])\n",
    "    plt.savefig('comments_time.png')\n",
    "    plt.clf()\n",
    "\n",
    "def get_words_use(df):\n",
    "    first_word=\"night\"\n",
    "    second_word=\"midnight\"\n",
    "    third_word=\"morning\"\n",
    "    word1=[]\n",
    "    word2=[]\n",
    "    word3=[]\n",
    "    x=list(range(24))\n",
    "    for _ in x:\n",
    "\n",
    "        df1=df.filter(df.hour==_).select(\"body\").rdd.flatMap(lambda x:x).flatMap(lambda x: preprocess(x)).map(lambda x: (x,1)).reduceByKey(add).toDF([\"word\",\"count\"])\n",
    "        try:\n",
    "            word1.append(df1.filter(df1.word==f\"{first_word}\").collect()[0][1]/df1.groupBy().sum().collect()[0][0])\n",
    "        except IndexError:\n",
    "            word1.append(0)\n",
    "        try:\n",
    "            word2.append(df1.filter(df1.word==f\"{second_word}\").collect()[0][1]/df1.groupBy().sum().collect()[0][0])\n",
    "        except IndexError:\n",
    "            word2.append(0)\n",
    "        try:\n",
    "            word3.append(df1.filter(df1.word==f\"{third_word}\").collect()[0][1]/df1.groupBy().sum().collect()[0][0])\n",
    "        except IndexError:\n",
    "            word3.append(0)\n",
    "\n",
    "    fig = plt.figure(facecolor=(1, 1, 1))\n",
    "    plt.plot(x, word1,label=f\"word={first_word}\")\n",
    "    plt.plot(x, word2,label=f\"word={second_word}\")\n",
    "    plt.plot(x, word3,label=f\"word={third_word}\")\n",
    "    plt.legend()\n",
    "    plt.xlabel(\"hour time\")\n",
    "    plt.ylabel(\"word frequency\")\n",
    "    plt.savefig('words_frequency.png')\n",
    "    plt.clf()"
   ]
  },
  {
   "cell_type": "code",
   "execution_count": 16,
   "id": "a2dca6f5-c7fd-4312-900e-f3ebb8eeae8e",
   "metadata": {
    "tags": []
   },
   "outputs": [],
   "source": [
    "\n",
    "#working with optimal setup, 4 workers and 8 cores \n",
    "spark = SparkSession.builder\\\n",
    "    .master(\"spark://192.168.2.102:7077\") \\\n",
    "    .appName(\"Analysis\")\\\n",
    "    .config(\"spark.cores.max\", f\"8\")\\\n",
    "    .getOrCreate()\n",
    "\n",
    "sqlContext = SQLContext(spark.sparkContext)"
   ]
  },
  {
   "cell_type": "code",
   "execution_count": 24,
   "id": "4f4fe3bd-fe92-4f8e-b93e-54a4e20fa07a",
   "metadata": {
    "tags": []
   },
   "outputs": [],
   "source": [
    "import pyspark.sql.types as T\n",
    "\n",
    "data_schema = T.StructType([\n",
    "  T.StructField('author', T.StringType(),True),\n",
    "  T.StructField('author_flair_css_class',T.StringType(),True),\n",
    "  T.StructField('author_flair_text',T.StringType(),True),\n",
    "  T.StructField('body',T.StringType(),True)\n",
    "    ])"
   ]
  },
  {
   "cell_type": "code",
   "execution_count": 26,
   "id": "153c48f4-842f-4a3e-a385-a765a21bbad0",
   "metadata": {
    "tags": []
   },
   "outputs": [
    {
     "name": "stderr",
     "output_type": "stream",
     "text": [
      "                                                                                \r"
     ]
    }
   ],
   "source": [
    "df = spark.read.json('hdfs://130.238.29.139:9000/reddit/*.json/') \n",
    "df.createOrReplaceTempView('park') #preparing dataframe sql\n",
    "df = sqlContext.sql(\"select body,created_utc,subreddit from park\").where(df[\"body\"]!=\"[deleted]\").withColumn(\"hour\",hour(from_unixtime(col(\"created_utc\"))))"
   ]
  },
  {
   "cell_type": "code",
   "execution_count": 28,
   "id": "794a94bf-6d97-41b6-bc03-d4afe4d319e5",
   "metadata": {
    "tags": []
   },
   "outputs": [
    {
     "name": "stdout",
     "output_type": "stream",
     "text": [
      "+--------------------+-----------+---------------+----+\n",
      "|                body|created_utc|      subreddit|hour|\n",
      "+--------------------+-----------+---------------+----+\n",
      "|    Good lord.  Yes.| 1309478400|leagueoflegends|   0|\n",
      "|I don't know abou...| 1309478401|      runescape|   0|\n",
      "|Explain something...| 1309478400|         Israel|   0|\n",
      "|I would add that ...| 1309478400|         loseit|   0|\n",
      "|care to explain #...| 1309478402|            PHP|   0|\n",
      "|A society where t...| 1309478402|      AskReddit|   0|\n",
      "|Normally, when I ...| 1309478402|            WTF|   0|\n",
      "|No one wants to t...| 1309478401|          codbo|   0|\n",
      "|    I don't get it. | 1309478404|    Philippines|   0|\n",
      "|I wonder whether ...| 1309478405|    environment|   0|\n",
      "|I would suggest j...| 1309478409|        writing|   0|\n",
      "|Remember, don't c...| 1309478409|        Fitness|   0|\n",
      "|I made it [here](...| 1309478408|     California|   0|\n",
      "|I think you may h...| 1309478407|            tf2|   0|\n",
      "|Not clever but \"I...| 1309478408|        firefly|   0|\n",
      "|Aww, very nice! H...| 1309478410|            fnv|   0|\n",
      "|Wow! Thanks! I th...| 1309478410|         comics|   0|\n",
      "|I read the title ...| 1309478410|      AskReddit|   0|\n",
      "|so your server ha...| 1309478407|      Minecraft|   0|\n",
      "|Manufacturers war...| 1309478411|       formula1|   0|\n",
      "+--------------------+-----------+---------------+----+\n",
      "only showing top 20 rows\n",
      "\n"
     ]
    },
    {
     "name": "stderr",
     "output_type": "stream",
     "text": [
      "                                                                                \r"
     ]
    }
   ],
   "source": [
    "df.show()"
   ]
  },
  {
   "cell_type": "code",
   "execution_count": 29,
   "id": "b6ae0ab5-9948-4179-b0a2-f89fd4f60a5e",
   "metadata": {
    "tags": []
   },
   "outputs": [
    {
     "name": "stderr",
     "output_type": "stream",
     "text": [
      "                                                                                \r"
     ]
    },
    {
     "data": {
      "text/plain": [
       "<Figure size 640x480 with 0 Axes>"
      ]
     },
     "metadata": {},
     "output_type": "display_data"
    }
   ],
   "source": [
    "get_comments_time(df)"
   ]
  },
  {
   "cell_type": "code",
   "execution_count": 30,
   "id": "db03c789-1e8f-42ed-bc3d-89dd2ae4399f",
   "metadata": {
    "tags": []
   },
   "outputs": [
    {
     "name": "stderr",
     "output_type": "stream",
     "text": [
      "                                                                                \r"
     ]
    },
    {
     "data": {
      "text/plain": [
       "<Figure size 640x480 with 0 Axes>"
      ]
     },
     "metadata": {},
     "output_type": "display_data"
    }
   ],
   "source": [
    "get_words_use(df)"
   ]
  },
  {
   "cell_type": "code",
   "execution_count": 31,
   "id": "ad9dc17c-cc3e-4bb3-9f4d-8b7b180d61d7",
   "metadata": {
    "tags": []
   },
   "outputs": [
    {
     "name": "stderr",
     "output_type": "stream",
     "text": [
      "23/03/20 21:24:18 WARN BLAS: Failed to load implementation from: com.github.fommil.netlib.NativeSystemBLAS\n",
      "23/03/20 21:24:18 WARN BLAS: Failed to load implementation from: com.github.fommil.netlib.NativeRefBLAS\n",
      "                                                                                \r"
     ]
    },
    {
     "data": {
      "text/html": [
       "<style type=\"text/css\">\n",
       "#T_d161e_row0_col1, #T_d161e_row1_col1, #T_d161e_row2_col1, #T_d161e_row3_col1, #T_d161e_row4_col1, #T_d161e_row5_col1, #T_d161e_row6_col1, #T_d161e_row7_col1, #T_d161e_row8_col1, #T_d161e_row9_col1, #T_d161e_row10_col1, #T_d161e_row11_col1, #T_d161e_row12_col1, #T_d161e_row13_col1, #T_d161e_row14_col1, #T_d161e_row15_col1, #T_d161e_row16_col1, #T_d161e_row17_col1, #T_d161e_row18_col1 {\n",
       "  background-color: #fff7fb;\n",
       "  color: #000000;\n",
       "}\n",
       "#T_d161e_row19_col1 {\n",
       "  background-color: #023858;\n",
       "  color: #f1f1f1;\n",
       "}\n",
       "</style>\n",
       "<table id=\"T_d161e\">\n",
       "  <thead>\n",
       "    <tr>\n",
       "      <th id=\"T_d161e_level0_col0\" class=\"col_heading level0 col0\" >Subreddit</th>\n",
       "      <th id=\"T_d161e_level0_col1\" class=\"col_heading level0 col1\" >group</th>\n",
       "    </tr>\n",
       "  </thead>\n",
       "  <tbody>\n",
       "    <tr>\n",
       "      <td id=\"T_d161e_row0_col0\" class=\"data row0 col0\" >videos</td>\n",
       "      <td id=\"T_d161e_row0_col1\" class=\"data row0 col1\" >0</td>\n",
       "    </tr>\n",
       "    <tr>\n",
       "      <td id=\"T_d161e_row1_col0\" class=\"data row1 col0\" >IAmA</td>\n",
       "      <td id=\"T_d161e_row1_col1\" class=\"data row1 col1\" >0</td>\n",
       "    </tr>\n",
       "    <tr>\n",
       "      <td id=\"T_d161e_row2_col0\" class=\"data row2 col0\" >gonewild</td>\n",
       "      <td id=\"T_d161e_row2_col1\" class=\"data row2 col1\" >0</td>\n",
       "    </tr>\n",
       "    <tr>\n",
       "      <td id=\"T_d161e_row3_col0\" class=\"data row3 col0\" >worldnews</td>\n",
       "      <td id=\"T_d161e_row3_col1\" class=\"data row3 col1\" >0</td>\n",
       "    </tr>\n",
       "    <tr>\n",
       "      <td id=\"T_d161e_row4_col0\" class=\"data row4 col0\" >reddit.com</td>\n",
       "      <td id=\"T_d161e_row4_col1\" class=\"data row4 col1\" >0</td>\n",
       "    </tr>\n",
       "    <tr>\n",
       "      <td id=\"T_d161e_row5_col0\" class=\"data row5 col0\" >gaming</td>\n",
       "      <td id=\"T_d161e_row5_col1\" class=\"data row5 col1\" >0</td>\n",
       "    </tr>\n",
       "    <tr>\n",
       "      <td id=\"T_d161e_row6_col0\" class=\"data row6 col0\" >funny</td>\n",
       "      <td id=\"T_d161e_row6_col1\" class=\"data row6 col1\" >0</td>\n",
       "    </tr>\n",
       "    <tr>\n",
       "      <td id=\"T_d161e_row7_col0\" class=\"data row7 col0\" >leagueoflegends</td>\n",
       "      <td id=\"T_d161e_row7_col1\" class=\"data row7 col1\" >0</td>\n",
       "    </tr>\n",
       "    <tr>\n",
       "      <td id=\"T_d161e_row8_col0\" class=\"data row8 col0\" >politics</td>\n",
       "      <td id=\"T_d161e_row8_col1\" class=\"data row8 col1\" >0</td>\n",
       "    </tr>\n",
       "    <tr>\n",
       "      <td id=\"T_d161e_row9_col0\" class=\"data row9 col0\" >mylittlepony</td>\n",
       "      <td id=\"T_d161e_row9_col1\" class=\"data row9 col1\" >0</td>\n",
       "    </tr>\n",
       "    <tr>\n",
       "      <td id=\"T_d161e_row10_col0\" class=\"data row10 col0\" >starcraft</td>\n",
       "      <td id=\"T_d161e_row10_col1\" class=\"data row10 col1\" >0</td>\n",
       "    </tr>\n",
       "    <tr>\n",
       "      <td id=\"T_d161e_row11_col0\" class=\"data row11 col0\" >todayilearned</td>\n",
       "      <td id=\"T_d161e_row11_col1\" class=\"data row11 col1\" >0</td>\n",
       "    </tr>\n",
       "    <tr>\n",
       "      <td id=\"T_d161e_row12_col0\" class=\"data row12 col0\" >pics</td>\n",
       "      <td id=\"T_d161e_row12_col1\" class=\"data row12 col1\" >0</td>\n",
       "    </tr>\n",
       "    <tr>\n",
       "      <td id=\"T_d161e_row13_col0\" class=\"data row13 col0\" >trees</td>\n",
       "      <td id=\"T_d161e_row13_col1\" class=\"data row13 col1\" >0</td>\n",
       "    </tr>\n",
       "    <tr>\n",
       "      <td id=\"T_d161e_row14_col0\" class=\"data row14 col0\" >Minecraft</td>\n",
       "      <td id=\"T_d161e_row14_col1\" class=\"data row14 col1\" >0</td>\n",
       "    </tr>\n",
       "    <tr>\n",
       "      <td id=\"T_d161e_row15_col0\" class=\"data row15 col0\" >atheism</td>\n",
       "      <td id=\"T_d161e_row15_col1\" class=\"data row15 col1\" >0</td>\n",
       "    </tr>\n",
       "    <tr>\n",
       "      <td id=\"T_d161e_row16_col0\" class=\"data row16 col0\" >TwoXChromosomes</td>\n",
       "      <td id=\"T_d161e_row16_col1\" class=\"data row16 col1\" >0</td>\n",
       "    </tr>\n",
       "    <tr>\n",
       "      <td id=\"T_d161e_row17_col0\" class=\"data row17 col0\" >WTF</td>\n",
       "      <td id=\"T_d161e_row17_col1\" class=\"data row17 col1\" >0</td>\n",
       "    </tr>\n",
       "    <tr>\n",
       "      <td id=\"T_d161e_row18_col0\" class=\"data row18 col0\" >fffffffuuuuuuuuuuuu</td>\n",
       "      <td id=\"T_d161e_row18_col1\" class=\"data row18 col1\" >0</td>\n",
       "    </tr>\n",
       "    <tr>\n",
       "      <td id=\"T_d161e_row19_col0\" class=\"data row19 col0\" >AskReddit</td>\n",
       "      <td id=\"T_d161e_row19_col1\" class=\"data row19 col1\" >1</td>\n",
       "    </tr>\n",
       "  </tbody>\n",
       "</table>\n"
      ],
      "text/plain": [
       "<pandas.io.formats.style.Styler at 0x7f3fa18149a0>"
      ]
     },
     "execution_count": 31,
     "metadata": {},
     "output_type": "execute_result"
    }
   ],
   "source": [
    "get_groups(df)"
   ]
  },
  {
   "cell_type": "code",
   "execution_count": 32,
   "id": "5a1bb176-0e44-4263-a96c-6ca8a27306d7",
   "metadata": {
    "tags": []
   },
   "outputs": [
    {
     "name": "stderr",
     "output_type": "stream",
     "text": [
      "                                                                                \r"
     ]
    },
    {
     "data": {
      "text/html": [
       "<style type=\"text/css\">\n",
       "#T_81f41_row0_col1 {\n",
       "  background-color: #62a2cb;\n",
       "  color: #f1f1f1;\n",
       "}\n",
       "#T_81f41_row0_col2, #T_81f41_row17_col1 {\n",
       "  background-color: #023858;\n",
       "  color: #f1f1f1;\n",
       "}\n",
       "#T_81f41_row1_col1 {\n",
       "  background-color: #dad9ea;\n",
       "  color: #000000;\n",
       "}\n",
       "#T_81f41_row1_col2 {\n",
       "  background-color: #6ba5cd;\n",
       "  color: #f1f1f1;\n",
       "}\n",
       "#T_81f41_row2_col1 {\n",
       "  background-color: #97b7d7;\n",
       "  color: #000000;\n",
       "}\n",
       "#T_81f41_row2_col2 {\n",
       "  background-color: #d1d2e6;\n",
       "  color: #000000;\n",
       "}\n",
       "#T_81f41_row3_col1 {\n",
       "  background-color: #e0deed;\n",
       "  color: #000000;\n",
       "}\n",
       "#T_81f41_row3_col2 {\n",
       "  background-color: #d4d4e8;\n",
       "  color: #000000;\n",
       "}\n",
       "#T_81f41_row4_col1, #T_81f41_row14_col1 {\n",
       "  background-color: #acc0dd;\n",
       "  color: #000000;\n",
       "}\n",
       "#T_81f41_row4_col2 {\n",
       "  background-color: #d6d6e9;\n",
       "  color: #000000;\n",
       "}\n",
       "#T_81f41_row5_col1, #T_81f41_row6_col2, #T_81f41_row7_col2 {\n",
       "  background-color: #e6e2ef;\n",
       "  color: #000000;\n",
       "}\n",
       "#T_81f41_row5_col2 {\n",
       "  background-color: #dedcec;\n",
       "  color: #000000;\n",
       "}\n",
       "#T_81f41_row6_col1 {\n",
       "  background-color: #2685bb;\n",
       "  color: #f1f1f1;\n",
       "}\n",
       "#T_81f41_row7_col1 {\n",
       "  background-color: #04639b;\n",
       "  color: #f1f1f1;\n",
       "}\n",
       "#T_81f41_row8_col1 {\n",
       "  background-color: #045a8d;\n",
       "  color: #f1f1f1;\n",
       "}\n",
       "#T_81f41_row8_col2 {\n",
       "  background-color: #eee9f3;\n",
       "  color: #000000;\n",
       "}\n",
       "#T_81f41_row9_col1, #T_81f41_row10_col1, #T_81f41_row12_col1 {\n",
       "  background-color: #c5cce3;\n",
       "  color: #000000;\n",
       "}\n",
       "#T_81f41_row9_col2 {\n",
       "  background-color: #f0eaf4;\n",
       "  color: #000000;\n",
       "}\n",
       "#T_81f41_row10_col2 {\n",
       "  background-color: #f3edf5;\n",
       "  color: #000000;\n",
       "}\n",
       "#T_81f41_row11_col1 {\n",
       "  background-color: #a2bcda;\n",
       "  color: #000000;\n",
       "}\n",
       "#T_81f41_row11_col2 {\n",
       "  background-color: #f5eef6;\n",
       "  color: #000000;\n",
       "}\n",
       "#T_81f41_row12_col2 {\n",
       "  background-color: #f5eff6;\n",
       "  color: #000000;\n",
       "}\n",
       "#T_81f41_row13_col1, #T_81f41_row18_col1 {\n",
       "  background-color: #ced0e6;\n",
       "  color: #000000;\n",
       "}\n",
       "#T_81f41_row13_col2 {\n",
       "  background-color: #faf2f8;\n",
       "  color: #000000;\n",
       "}\n",
       "#T_81f41_row14_col2 {\n",
       "  background-color: #faf3f9;\n",
       "  color: #000000;\n",
       "}\n",
       "#T_81f41_row15_col1 {\n",
       "  background-color: #045f95;\n",
       "  color: #f1f1f1;\n",
       "}\n",
       "#T_81f41_row15_col2 {\n",
       "  background-color: #fcf4fa;\n",
       "  color: #000000;\n",
       "}\n",
       "#T_81f41_row16_col1 {\n",
       "  background-color: #549cc7;\n",
       "  color: #f1f1f1;\n",
       "}\n",
       "#T_81f41_row16_col2 {\n",
       "  background-color: #fef6fa;\n",
       "  color: #000000;\n",
       "}\n",
       "#T_81f41_row17_col2 {\n",
       "  background-color: #fef6fb;\n",
       "  color: #000000;\n",
       "}\n",
       "#T_81f41_row18_col2, #T_81f41_row19_col1, #T_81f41_row19_col2 {\n",
       "  background-color: #fff7fb;\n",
       "  color: #000000;\n",
       "}\n",
       "</style>\n",
       "<table id=\"T_81f41\">\n",
       "  <thead>\n",
       "    <tr>\n",
       "      <th id=\"T_81f41_level0_col0\" class=\"col_heading level0 col0\" >Subreddit</th>\n",
       "      <th id=\"T_81f41_level0_col1\" class=\"col_heading level0 col1\" >average_lenght</th>\n",
       "      <th id=\"T_81f41_level0_col2\" class=\"col_heading level0 col2\" >comment_count</th>\n",
       "    </tr>\n",
       "  </thead>\n",
       "  <tbody>\n",
       "    <tr>\n",
       "      <td id=\"T_81f41_row0_col0\" class=\"data row0 col0\" >AskReddit</td>\n",
       "      <td id=\"T_81f41_row0_col1\" class=\"data row0 col1\" >32</td>\n",
       "      <td id=\"T_81f41_row0_col2\" class=\"data row0 col2\" >6493</td>\n",
       "    </tr>\n",
       "    <tr>\n",
       "      <td id=\"T_81f41_row1_col0\" class=\"data row1 col0\" >pics</td>\n",
       "      <td id=\"T_81f41_row1_col1\" class=\"data row1 col1\" >19</td>\n",
       "      <td id=\"T_81f41_row1_col2\" class=\"data row1 col2\" >3533</td>\n",
       "    </tr>\n",
       "    <tr>\n",
       "      <td id=\"T_81f41_row2_col0\" class=\"data row2 col0\" >gaming</td>\n",
       "      <td id=\"T_81f41_row2_col1\" class=\"data row2 col1\" >27</td>\n",
       "      <td id=\"T_81f41_row2_col2\" class=\"data row2 col2\" >1852</td>\n",
       "    </tr>\n",
       "    <tr>\n",
       "      <td id=\"T_81f41_row3_col0\" class=\"data row3 col0\" >funny</td>\n",
       "      <td id=\"T_81f41_row3_col1\" class=\"data row3 col1\" >18</td>\n",
       "      <td id=\"T_81f41_row3_col2\" class=\"data row3 col2\" >1769</td>\n",
       "    </tr>\n",
       "    <tr>\n",
       "      <td id=\"T_81f41_row4_col0\" class=\"data row4 col0\" >reddit.com</td>\n",
       "      <td id=\"T_81f41_row4_col1\" class=\"data row4 col1\" >25</td>\n",
       "      <td id=\"T_81f41_row4_col2\" class=\"data row4 col2\" >1708</td>\n",
       "    </tr>\n",
       "    <tr>\n",
       "      <td id=\"T_81f41_row5_col0\" class=\"data row5 col0\" >fffffffuuuuuuuuuuuu</td>\n",
       "      <td id=\"T_81f41_row5_col1\" class=\"data row5 col1\" >17</td>\n",
       "      <td id=\"T_81f41_row5_col2\" class=\"data row5 col2\" >1492</td>\n",
       "    </tr>\n",
       "    <tr>\n",
       "      <td id=\"T_81f41_row6_col0\" class=\"data row6 col0\" >IAmA</td>\n",
       "      <td id=\"T_81f41_row6_col1\" class=\"data row6 col1\" >37</td>\n",
       "      <td id=\"T_81f41_row6_col2\" class=\"data row6 col2\" >1295</td>\n",
       "    </tr>\n",
       "    <tr>\n",
       "      <td id=\"T_81f41_row7_col0\" class=\"data row7 col0\" >politics</td>\n",
       "      <td id=\"T_81f41_row7_col1\" class=\"data row7 col1\" >43</td>\n",
       "      <td id=\"T_81f41_row7_col2\" class=\"data row7 col2\" >1285</td>\n",
       "    </tr>\n",
       "    <tr>\n",
       "      <td id=\"T_81f41_row8_col0\" class=\"data row8 col0\" >atheism</td>\n",
       "      <td id=\"T_81f41_row8_col1\" class=\"data row8 col1\" >45</td>\n",
       "      <td id=\"T_81f41_row8_col2\" class=\"data row8 col2\" >1028</td>\n",
       "    </tr>\n",
       "    <tr>\n",
       "      <td id=\"T_81f41_row9_col0\" class=\"data row9 col0\" >trees</td>\n",
       "      <td id=\"T_81f41_row9_col1\" class=\"data row9 col1\" >22</td>\n",
       "      <td id=\"T_81f41_row9_col2\" class=\"data row9 col2\" >977</td>\n",
       "    </tr>\n",
       "    <tr>\n",
       "      <td id=\"T_81f41_row10_col0\" class=\"data row10 col0\" >videos</td>\n",
       "      <td id=\"T_81f41_row10_col1\" class=\"data row10 col1\" >22</td>\n",
       "      <td id=\"T_81f41_row10_col2\" class=\"data row10 col2\" >824</td>\n",
       "    </tr>\n",
       "    <tr>\n",
       "      <td id=\"T_81f41_row11_col0\" class=\"data row11 col0\" >starcraft</td>\n",
       "      <td id=\"T_81f41_row11_col1\" class=\"data row11 col1\" >26</td>\n",
       "      <td id=\"T_81f41_row11_col2\" class=\"data row11 col2\" >767</td>\n",
       "    </tr>\n",
       "    <tr>\n",
       "      <td id=\"T_81f41_row12_col0\" class=\"data row12 col0\" >WTF</td>\n",
       "      <td id=\"T_81f41_row12_col1\" class=\"data row12 col1\" >22</td>\n",
       "      <td id=\"T_81f41_row12_col2\" class=\"data row12 col2\" >731</td>\n",
       "    </tr>\n",
       "    <tr>\n",
       "      <td id=\"T_81f41_row13_col0\" class=\"data row13 col0\" >Minecraft</td>\n",
       "      <td id=\"T_81f41_row13_col1\" class=\"data row13 col1\" >21</td>\n",
       "      <td id=\"T_81f41_row13_col2\" class=\"data row13 col2\" >557</td>\n",
       "    </tr>\n",
       "    <tr>\n",
       "      <td id=\"T_81f41_row14_col0\" class=\"data row14 col0\" >todayilearned</td>\n",
       "      <td id=\"T_81f41_row14_col1\" class=\"data row14 col1\" >25</td>\n",
       "      <td id=\"T_81f41_row14_col2\" class=\"data row14 col2\" >552</td>\n",
       "    </tr>\n",
       "    <tr>\n",
       "      <td id=\"T_81f41_row15_col0\" class=\"data row15 col0\" >worldnews</td>\n",
       "      <td id=\"T_81f41_row15_col1\" class=\"data row15 col1\" >44</td>\n",
       "      <td id=\"T_81f41_row15_col2\" class=\"data row15 col2\" >470</td>\n",
       "    </tr>\n",
       "    <tr>\n",
       "      <td id=\"T_81f41_row16_col0\" class=\"data row16 col0\" >leagueoflegends</td>\n",
       "      <td id=\"T_81f41_row16_col1\" class=\"data row16 col1\" >33</td>\n",
       "      <td id=\"T_81f41_row16_col2\" class=\"data row16 col2\" >396</td>\n",
       "    </tr>\n",
       "    <tr>\n",
       "      <td id=\"T_81f41_row17_col0\" class=\"data row17 col0\" >TwoXChromosomes</td>\n",
       "      <td id=\"T_81f41_row17_col1\" class=\"data row17 col1\" >50</td>\n",
       "      <td id=\"T_81f41_row17_col2\" class=\"data row17 col2\" >383</td>\n",
       "    </tr>\n",
       "    <tr>\n",
       "      <td id=\"T_81f41_row18_col0\" class=\"data row18 col0\" >mylittlepony</td>\n",
       "      <td id=\"T_81f41_row18_col1\" class=\"data row18 col1\" >21</td>\n",
       "      <td id=\"T_81f41_row18_col2\" class=\"data row18 col2\" >340</td>\n",
       "    </tr>\n",
       "    <tr>\n",
       "      <td id=\"T_81f41_row19_col0\" class=\"data row19 col0\" >gonewild</td>\n",
       "      <td id=\"T_81f41_row19_col1\" class=\"data row19 col1\" >11</td>\n",
       "      <td id=\"T_81f41_row19_col2\" class=\"data row19 col2\" >337</td>\n",
       "    </tr>\n",
       "  </tbody>\n",
       "</table>\n"
      ],
      "text/plain": [
       "<pandas.io.formats.style.Styler at 0x7f3fa1753130>"
      ]
     },
     "execution_count": 32,
     "metadata": {},
     "output_type": "execute_result"
    }
   ],
   "source": [
    "get_most_popular(df)"
   ]
  },
  {
   "cell_type": "code",
   "execution_count": 36,
   "id": "90e5ee8a-a3b4-4f94-8285-ff657655bfb6",
   "metadata": {
    "tags": []
   },
   "outputs": [
    {
     "name": "stderr",
     "output_type": "stream",
     "text": [
      "                                                                                \r"
     ]
    },
    {
     "data": {
      "text/plain": [
       "44667631"
      ]
     },
     "execution_count": 36,
     "metadata": {},
     "output_type": "execute_result"
    }
   ],
   "source": [
    "df.count()\n"
   ]
  },
  {
   "cell_type": "code",
   "execution_count": null,
   "id": "c1fd01a7-f92a-4e65-9928-f846e9658e05",
   "metadata": {},
   "outputs": [],
   "source": []
  }
 ],
 "metadata": {
  "kernelspec": {
   "display_name": "Python 3 (ipykernel)",
   "language": "python",
   "name": "python3"
  },
  "language_info": {
   "codemirror_mode": {
    "name": "ipython",
    "version": 3
   },
   "file_extension": ".py",
   "mimetype": "text/x-python",
   "name": "python",
   "nbconvert_exporter": "python",
   "pygments_lexer": "ipython3",
   "version": "3.9.2"
  }
 },
 "nbformat": 4,
 "nbformat_minor": 5
}
