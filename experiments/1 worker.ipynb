{
 "cells": [
  {
   "cell_type": "code",
   "execution_count": 1,
   "id": "d59762f9-eec9-48ff-94cc-b9843e9b9cb0",
   "metadata": {
    "tags": []
   },
   "outputs": [
    {
     "name": "stderr",
     "output_type": "stream",
     "text": [
      "23/03/19 19:38:28 WARN NativeCodeLoader: Unable to load native-hadoop library for your platform... using builtin-java classes where applicable\n",
      "Using Spark's default log4j profile: org/apache/spark/log4j-defaults.properties\n",
      "Setting default log level to \"WARN\".\n",
      "To adjust logging level use sc.setLogLevel(newLevel). For SparkR, use setLogLevel(newLevel).\n",
      "                                                                                \r"
     ]
    },
    {
     "name": "stdout",
     "output_type": "stream",
     "text": [
      "cores=1, elapsed_time=1627.201 seconds\n"
     ]
    },
    {
     "name": "stderr",
     "output_type": "stream",
     "text": [
      "                                                                                \r"
     ]
    },
    {
     "name": "stdout",
     "output_type": "stream",
     "text": [
      "cores=2, elapsed_time=825.388 seconds\n"
     ]
    },
    {
     "name": "stderr",
     "output_type": "stream",
     "text": [
      "                                                                                \r"
     ]
    },
    {
     "name": "stdout",
     "output_type": "stream",
     "text": [
      "cores=3, elapsed_time=595.632 seconds\n"
     ]
    },
    {
     "name": "stderr",
     "output_type": "stream",
     "text": [
      "                                                                                \r"
     ]
    },
    {
     "name": "stdout",
     "output_type": "stream",
     "text": [
      "cores=4, elapsed_time=436.941 seconds\n"
     ]
    },
    {
     "name": "stderr",
     "output_type": "stream",
     "text": [
      "                                                                                \r"
     ]
    },
    {
     "name": "stdout",
     "output_type": "stream",
     "text": [
      "cores=5, elapsed_time=402.204 seconds\n"
     ]
    },
    {
     "name": "stderr",
     "output_type": "stream",
     "text": [
      "                                                                                \r"
     ]
    },
    {
     "name": "stdout",
     "output_type": "stream",
     "text": [
      "cores=6, elapsed_time=283.476 seconds\n"
     ]
    },
    {
     "name": "stderr",
     "output_type": "stream",
     "text": [
      "                                                                                \r"
     ]
    },
    {
     "name": "stdout",
     "output_type": "stream",
     "text": [
      "cores=7, elapsed_time=286.551 seconds\n"
     ]
    },
    {
     "name": "stderr",
     "output_type": "stream",
     "text": [
      "                                                                                \r"
     ]
    },
    {
     "name": "stdout",
     "output_type": "stream",
     "text": [
      "cores=8, elapsed_time=243.677 seconds\n"
     ]
    },
    {
     "data": {
      "image/png": "[encoded data removed]",
      "text/plain": [
       "<Figure size 640x480 with 1 Axes>"
      ]
     },
     "metadata": {},
     "output_type": "display_data"
    }
   ],
   "source": [
    "import pyspark\n",
    "import time\n",
    "from pyspark.sql import SparkSession, SQLContext\n",
    "from pyspark.sql.functions import *\n",
    "import matplotlib.pyplot as plt\n",
    "\n",
    "timing=[]\n",
    "core=(1, 2, 3, 4, 5, 6, 7, 8)\n",
    "\n",
    "spark_session = SparkSession.builder\\\n",
    "    .master(\"spark://192.168.2.122:7077\") \\\n",
    "    .appName(\"Timing 1 workers 1 core \")\\\n",
    "    .config(\"spark.cores.max\", f\"1\")\\\n",
    "    .config(\"spark.executor.memory\", \"2g\")\\\n",
    "    .getOrCreate()\n",
    "\n",
    "sc = SQLContext(spark_session.sparkContext)\n",
    "\n",
    "\n",
    "start = time.time()\n",
    "\n",
    "df = spark_session.read.json(\"hdfs://130.238.28.211:9000/reddit/RC_2011-08.json\") #Change to latest data\n",
    "df.createOrReplaceTempView('park') #preparing dataframe sql\n",
    "df = sc.sql(\"select body,created_utc,subreddit from park\").where(df[\"body\"]!=\"[deleted]\").withColumn(\"hour\",hour(from_unixtime(col(\"created_utc\")))).drop('created_utc')\n",
    "\n",
    "end = time.time()\n",
    "timing.append(end-start)\n",
    "#print(f\"cores={x}, result={result}, elapsed_time={end-start:.3f} seconds\")\n",
    "print(f\"cores=1, elapsed_time={end-start:.3f} seconds\")\n",
    "spark_session.stop()\n",
    "\n",
    "spark_session = SparkSession.builder\\\n",
    "    .master(\"spark://192.168.2.122:7077\") \\\n",
    "    .appName(\"Timing 1 workers 2 cores \")\\\n",
    "    .config(\"spark.cores.max\", f\"2\")\\\n",
    "    .config(\"spark.executor.memory\", \"2g\")\\\n",
    "    .getOrCreate()\n",
    "\n",
    "sc = SQLContext(spark_session.sparkContext)\n",
    "\n",
    "\n",
    "start = time.time()\n",
    "\n",
    "df = spark_session.read.json(\"hdfs://130.238.28.211:9000/reddit/RC_2011-08.json\") #Change to latest data\n",
    "df.createOrReplaceTempView('park') #preparing dataframe sql\n",
    "df = sc.sql(\"select body,created_utc,subreddit from park\").where(df[\"body\"]!=\"[deleted]\").withColumn(\"hour\",hour(from_unixtime(col(\"created_utc\")))).drop('created_utc')\n",
    "\n",
    "end = time.time()\n",
    "timing.append(end-start)\n",
    "#print(f\"cores={x}, result={result}, elapsed_time={end-start:.3f} seconds\")\n",
    "print(f\"cores=2, elapsed_time={end-start:.3f} seconds\")\n",
    "spark_session.stop()\n",
    "\n",
    "spark_session = SparkSession.builder\\\n",
    "    .master(\"spark://192.168.2.122:7077\") \\\n",
    "    .appName(\"Timing 1 workers 3 cores \")\\\n",
    "    .config(\"spark.cores.max\", f\"3\")\\\n",
    "    .config(\"spark.executor.memory\", \"2g\")\\\n",
    "    .getOrCreate()\n",
    "\n",
    "sc = SQLContext(spark_session.sparkContext)\n",
    "\n",
    "\n",
    "start = time.time()\n",
    "\n",
    "df = spark_session.read.json(\"hdfs://130.238.28.211:9000/reddit/RC_2011-08.json\") #Change to latest data\n",
    "df.createOrReplaceTempView('park') #preparing dataframe sql\n",
    "df = sc.sql(\"select body,created_utc,subreddit from park\").where(df[\"body\"]!=\"[deleted]\").withColumn(\"hour\",hour(from_unixtime(col(\"created_utc\")))).drop('created_utc')\n",
    "\n",
    "end = time.time()\n",
    "timing.append(end-start)\n",
    "#print(f\"cores={x}, result={result}, elapsed_time={end-start:.3f} seconds\")\n",
    "print(f\"cores=3, elapsed_time={end-start:.3f} seconds\")\n",
    "spark_session.stop()\n",
    "\n",
    "spark_session = SparkSession.builder\\\n",
    "    .master(\"spark://192.168.2.122:7077\") \\\n",
    "    .appName(\"Timing 1 workers 4 cores \")\\\n",
    "    .config(\"spark.cores.max\", f\"4\")\\\n",
    "    .config(\"spark.executor.memory\", \"2g\")\\\n",
    "    .getOrCreate()\n",
    "\n",
    "sc = SQLContext(spark_session.sparkContext)\n",
    "\n",
    "\n",
    "start = time.time()\n",
    "\n",
    "df = spark_session.read.json(\"hdfs://130.238.28.211:9000/reddit/RC_2011-08.json\") #Change to latest data\n",
    "df.createOrReplaceTempView('park') #preparing dataframe sql\n",
    "df = sc.sql(\"select body,created_utc,subreddit from park\").where(df[\"body\"]!=\"[deleted]\").withColumn(\"hour\",hour(from_unixtime(col(\"created_utc\")))).drop('created_utc')\n",
    "\n",
    "\n",
    "end = time.time()\n",
    "timing.append(end-start)\n",
    "#print(f\"cores={x}, result={result}, elapsed_time={end-start:.3f} seconds\")\n",
    "print(f\"cores=4, elapsed_time={end-start:.3f} seconds\")\n",
    "spark_session.stop()\n",
    "\n",
    "spark_session = SparkSession.builder\\\n",
    "    .master(\"spark://192.168.2.122:7077\") \\\n",
    "    .appName(\"Timing 1 workers 5 cores \")\\\n",
    "    .config(\"spark.cores.max\", f\"5\")\\\n",
    "    .config(\"spark.executor.memory\", \"2g\")\\\n",
    "    .getOrCreate()\n",
    "\n",
    "sc = SQLContext(spark_session.sparkContext)\n",
    "\n",
    "\n",
    "start = time.time()\n",
    "\n",
    "df = spark_session.read.json(\"hdfs://130.238.28.211:9000/reddit/RC_2011-08.json\") #Change to latest data\n",
    "df.createOrReplaceTempView('park') #preparing dataframe sql\n",
    "df = sc.sql(\"select body,created_utc,subreddit from park\").where(df[\"body\"]!=\"[deleted]\").withColumn(\"hour\",hour(from_unixtime(col(\"created_utc\")))).drop('created_utc')\n",
    "\n",
    "\n",
    "end = time.time()\n",
    "timing.append(end-start)\n",
    "#print(f\"cores={x}, result={result}, elapsed_time={end-start:.3f} seconds\")\n",
    "print(f\"cores=5, elapsed_time={end-start:.3f} seconds\")\n",
    "spark_session.stop()\n",
    "\n",
    "spark_session = SparkSession.builder\\\n",
    "    .master(\"spark://192.168.2.122:7077\") \\\n",
    "    .appName(\"Timing 1 workers 6 cores \")\\\n",
    "    .config(\"spark.cores.max\", f\"6\")\\\n",
    "    .config(\"spark.executor.memory\", \"2g\")\\\n",
    "    .getOrCreate()\n",
    "\n",
    "sc = SQLContext(spark_session.sparkContext)\n",
    "\n",
    "\n",
    "start = time.time()\n",
    "\n",
    "df = spark_session.read.json(\"hdfs://130.238.28.211:9000/reddit/RC_2011-08.json\") #Change to latest data\n",
    "df.createOrReplaceTempView('park') #preparing dataframe sql\n",
    "df = sc.sql(\"select body,created_utc,subreddit from park\").where(df[\"body\"]!=\"[deleted]\").withColumn(\"hour\",hour(from_unixtime(col(\"created_utc\")))).drop('created_utc')\n",
    "\n",
    "\n",
    "end = time.time()\n",
    "timing.append(end-start)\n",
    "#print(f\"cores={x}, result={result}, elapsed_time={end-start:.3f} seconds\")\n",
    "print(f\"cores=6, elapsed_time={end-start:.3f} seconds\")\n",
    "spark_session.stop()\n",
    "\n",
    "spark_session = SparkSession.builder\\\n",
    "    .master(\"spark://192.168.2.122:7077\") \\\n",
    "    .appName(\"Timing 1 workers 7 cores \")\\\n",
    "    .config(\"spark.cores.max\", f\"7\")\\\n",
    "    .config(\"spark.executor.memory\", \"2g\")\\\n",
    "    .getOrCreate()\n",
    "\n",
    "sc = SQLContext(spark_session.sparkContext)\n",
    "\n",
    "\n",
    "start = time.time()\n",
    "\n",
    "df = spark_session.read.json(\"hdfs://130.238.28.211:9000/reddit/RC_2011-08.json\") #Change to latest data\n",
    "df.createOrReplaceTempView('park') #preparing dataframe sql\n",
    "df = sc.sql(\"select body,created_utc,subreddit from park\").where(df[\"body\"]!=\"[deleted]\").withColumn(\"hour\",hour(from_unixtime(col(\"created_utc\")))).drop('created_utc')\n",
    "\n",
    "\n",
    "end = time.time()\n",
    "timing.append(end-start)\n",
    "#print(f\"cores={x}, result={result}, elapsed_time={end-start:.3f} seconds\")\n",
    "print(f\"cores=7, elapsed_time={end-start:.3f} seconds\")\n",
    "spark_session.stop()\n",
    "\n",
    "spark_session = SparkSession.builder\\\n",
    "    .master(\"spark://192.168.2.122:7077\") \\\n",
    "    .appName(\"Timing 1 workers 8 cores \")\\\n",
    "    .config(\"spark.cores.max\", f\"8\")\\\n",
    "    .config(\"spark.executor.memory\", \"2g\")\\\n",
    "    .getOrCreate()\n",
    "\n",
    "sc = SQLContext(spark_session.sparkContext)\n",
    "\n",
    "\n",
    "start = time.time()\n",
    "\n",
    "df = spark_session.read.json(\"hdfs://130.238.28.211:9000/reddit/RC_2011-08.json\") #Change to latest data\n",
    "df.createOrReplaceTempView('park') #preparing dataframe sql\n",
    "df = sc.sql(\"select body,created_utc,subreddit from park\").where(df[\"body\"]!=\"[deleted]\").withColumn(\"hour\",hour(from_unixtime(col(\"created_utc\")))).drop('created_utc')\n",
    "\n",
    "end = time.time()\n",
    "timing.append(end-start)\n",
    "#print(f\"cores={x}, result={result}, elapsed_time={end-start:.3f} seconds\")\n",
    "print(f\"cores=8, elapsed_time={end-start:.3f} seconds\")\n",
    "spark_session.stop()\n",
    "\n",
    "plt.scatter(core,timing)\n",
    "plt.savefig(\"Timing Cores 1-8 For 1 Workers\")"
   ]
  },
  {
   "cell_type": "code",
   "execution_count": 2,
   "id": "3917ad05-f072-40b0-9d0b-7e081ae23e6f",
   "metadata": {
    "tags": []
   },
   "outputs": [
    {
     "name": "stdout",
     "output_type": "stream",
     "text": [
      "[1627.201432466507, 825.3879988193512, 595.6318793296814, 436.9412500858307, 402.2041172981262, 283.47630047798157, 286.550555229187, 243.67713379859924]\n"
     ]
    }
   ],
   "source": [
    "print(timing)"
   ]
  },
  {
   "cell_type": "code",
   "execution_count": null,
   "id": "d09cd527-40d2-4369-84cb-b883fa52cc39",
   "metadata": {},
   "outputs": [],
   "source": []
  }
 ],
 "metadata": {
  "kernelspec": {
   "display_name": "Python 3 (ipykernel)",
   "language": "python",
   "name": "python3"
  },
  "language_info": {
   "codemirror_mode": {
    "name": "ipython",
    "version": 3
   },
   "file_extension": ".py",
   "mimetype": "text/x-python",
   "name": "python",
   "nbconvert_exporter": "python",
   "pygments_lexer": "ipython3",
   "version": "3.9.2"
  }
 },
 "nbformat": 4,
 "nbformat_minor": 5
}
