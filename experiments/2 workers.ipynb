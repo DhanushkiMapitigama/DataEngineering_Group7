{
 "cells": [
  {
   "cell_type": "code",
   "execution_count": 1,
   "id": "d8aa0006-e7ca-483f-8eef-4e81b2178c11",
   "metadata": {
    "tags": []
   },
   "outputs": [
    {
     "name": "stderr",
     "output_type": "stream",
     "text": [
      "23/03/19 18:59:34 WARN NativeCodeLoader: Unable to load native-hadoop library for your platform... using builtin-java classes where applicable\n",
      "Using Spark's default log4j profile: org/apache/spark/log4j-defaults.properties\n",
      "Setting default log level to \"WARN\".\n",
      "To adjust logging level use sc.setLogLevel(newLevel). For SparkR, use setLogLevel(newLevel).\n",
      "                                                                                \r"
     ]
    },
    {
     "name": "stdout",
     "output_type": "stream",
     "text": [
      "cores=2, elapsed_time=821.742 seconds\n"
     ]
    },
    {
     "name": "stderr",
     "output_type": "stream",
     "text": [
      "                                                                                \r"
     ]
    },
    {
     "name": "stdout",
     "output_type": "stream",
     "text": [
      "cores=6, elapsed_time=304.130 seconds\n"
     ]
    },
    {
     "name": "stderr",
     "output_type": "stream",
     "text": [
      "                                                                                \r"
     ]
    },
    {
     "name": "stdout",
     "output_type": "stream",
     "text": [
      "cores=8, elapsed_time=228.565 seconds\n"
     ]
    },
    {
     "data": {
      "image/png": "[encoded data removed]",
      "text/plain": [
       "<Figure size 640x480 with 1 Axes>"
      ]
     },
     "metadata": {},
     "output_type": "display_data"
    }
   ],
   "source": [
    "import pyspark\n",
    "import time\n",
    "from pyspark.sql import SparkSession, SQLContext\n",
    "from pyspark.sql.functions import *\n",
    "import matplotlib.pyplot as plt\n",
    "\n",
    "timing=[]\n",
    "core=(2, 4, 6, 8)\n",
    "\n",
    "spark_session = SparkSession.builder\\\n",
    "    .master(\"spark://192.168.2.122:7077\") \\\n",
    "    .appName(\"Timing 2 workers 2 cores \")\\\n",
    "    .config(\"spark.cores.max\", f\"2\")\\\n",
    "    .config(\"spark.executor.memory\", \"2g\")\\\n",
    "    .getOrCreate()\n",
    "\n",
    "sc = SQLContext(spark_session.sparkContext)\n",
    "\n",
    "\n",
    "start = time.time()\n",
    "\n",
    "df = spark_session.read.json(\"hdfs://130.238.28.211:9000/reddit/RC_2011-08.json\") #Change to latest data\n",
    "df.createOrReplaceTempView('park') #preparing dataframe sql\n",
    "df = sc.sql(\"select body,created_utc,subreddit from park\").where(df[\"body\"]!=\"[deleted]\").withColumn(\"hour\",hour(from_unixtime(col(\"created_utc\")))).drop('created_utc')\n",
    "\n",
    "end = time.time()\n",
    "timing.append(end-start)\n",
    "#print(f\"cores={x}, result={result}, elapsed_time={end-start:.3f} seconds\")\n",
    "print(f\"cores=2, elapsed_time={end-start:.3f} seconds\")\n",
    "spark_session.stop()\n",
    "\n",
    "spark_session = SparkSession.builder\\\n",
    "    .master(\"spark://192.168.2.122:7077\") \\\n",
    "    .appName(\"Timing 2 workers 4 cores \")\\\n",
    "    .config(\"spark.cores.max\", f\"4\")\\\n",
    "    .config(\"spark.executor.memory\", \"2g\")\\\n",
    "    .getOrCreate()\n",
    "\n",
    "sc = SQLContext(spark_session.sparkContext)\n",
    "\n",
    "\n",
    "start = time.time()\n",
    "\n",
    "df = spark_session.read.json(\"hdfs://130.238.28.211:9000/reddit/RC_2011-08.json\") #Change to latest data\n",
    "df.createOrReplaceTempView('park') #preparing dataframe sql\n",
    "df = sc.sql(\"select body,created_utc,subreddit from park\").where(df[\"body\"]!=\"[deleted]\").withColumn(\"hour\",hour(from_unixtime(col(\"created_utc\")))).drop('created_utc')\n",
    "\n",
    "end = time.time()\n",
    "timing.append(end-start)\n",
    "#print(f\"cores={x}, result={result}, elapsed_time={end-start:.3f} seconds\")\n",
    "print(f\"cores=4, elapsed_time={end-start:.3f} seconds\")\n",
    "spark_session.stop()\n",
    "\n",
    "spark_session = SparkSession.builder\\\n",
    "    .master(\"spark://192.168.2.122:7077\") \\\n",
    "    .appName(\"Timing 2 workers 6 cores \")\\\n",
    "    .config(\"spark.cores.max\", f\"6\")\\\n",
    "    .config(\"spark.executor.memory\", \"2g\")\\\n",
    "    .getOrCreate()\n",
    "\n",
    "sc = SQLContext(spark_session.sparkContext)\n",
    "\n",
    "\n",
    "start = time.time()\n",
    "\n",
    "df = spark_session.read.json(\"hdfs://130.238.28.211:9000/reddit/RC_2011-08.json\") #Change to latest data\n",
    "df.createOrReplaceTempView('park') #preparing dataframe sql\n",
    "df = sc.sql(\"select body,created_utc,subreddit from park\").where(df[\"body\"]!=\"[deleted]\").withColumn(\"hour\",hour(from_unixtime(col(\"created_utc\")))).drop('created_utc')\n",
    "\n",
    "end = time.time()\n",
    "timing.append(end-start)\n",
    "#print(f\"cores={x}, result={result}, elapsed_time={end-start:.3f} seconds\")\n",
    "print(f\"cores=6, elapsed_time={end-start:.3f} seconds\")\n",
    "spark_session.stop()\n",
    "\n",
    "spark_session = SparkSession.builder\\\n",
    "    .master(\"spark://192.168.2.122:7077\") \\\n",
    "    .appName(\"Timing 2 workers 8 cores \")\\\n",
    "    .config(\"spark.cores.max\", f\"8\")\\\n",
    "    .config(\"spark.executor.memory\", \"2g\")\\\n",
    "    .getOrCreate()\n",
    "\n",
    "sc = SQLContext(spark_session.sparkContext)\n",
    "\n",
    "\n",
    "start = time.time()\n",
    "\n",
    "df = spark_session.read.json(\"hdfs://130.238.28.211:9000/reddit/RC_2011-08.json\") #Change to latest data\n",
    "df.createOrReplaceTempView('park') #preparing dataframe sql\n",
    "df = sc.sql(\"select body,created_utc,subreddit from park\").where(df[\"body\"]!=\"[deleted]\").withColumn(\"hour\",hour(from_unixtime(col(\"created_utc\")))).drop('created_utc')\n",
    "\n",
    "\n",
    "end = time.time()\n",
    "timing.append(end-start)\n",
    "#print(f\"cores={x}, result={result}, elapsed_time={end-start:.3f} seconds\")\n",
    "print(f\"cores=8, elapsed_time={end-start:.3f} seconds\")\n",
    "spark_session.stop()\n",
    "\n",
    "'''spark_session = SparkSession.builder\\\n",
    "    .master(\"spark://192.168.2.122:7077\") \\\n",
    "    .appName(\"Timing 6 workers 5 cores \")\\\n",
    "    .config(\"spark.cores.max\", f\"5\")\\\n",
    "    .config(\"spark.executor.memory\", \"2g\")\\\n",
    "    .getOrCreate()\n",
    "\n",
    "sc = SQLContext(spark_session.sparkContext)\n",
    "\n",
    "\n",
    "start = time.time()\n",
    "\n",
    "df = spark_session.read.json(\"hdfs://130.238.28.211:9000/reddit/RC_2011-08.json\") #Change to latest data\n",
    "df.createOrReplaceTempView('park') #preparing dataframe sql\n",
    "df = sc.sql(\"select body,created_utc,subreddit from park\").where(df[\"body\"]!=\"[deleted]\").withColumn(\"hour\",hour(from_unixtime(col(\"created_utc\")))).drop('created_utc')\n",
    "\n",
    "\n",
    "end = time.time()\n",
    "timing.append(end-start)\n",
    "#print(f\"cores={x}, result={result}, elapsed_time={end-start:.3f} seconds\")\n",
    "print(f\"cores=5, elapsed_time={end-start:.3f} seconds\")\n",
    "spark_session.stop()\n",
    "\n",
    "spark_session = SparkSession.builder\\\n",
    "    .master(\"spark://192.168.2.122:7077\") \\\n",
    "    .appName(\"Timing 6 workers 6 cores \")\\\n",
    "    .config(\"spark.cores.max\", f\"6\")\\\n",
    "    .config(\"spark.executor.memory\", \"2g\")\\\n",
    "    .getOrCreate()\n",
    "\n",
    "sc = SQLContext(spark_session.sparkContext)\n",
    "\n",
    "\n",
    "start = time.time()\n",
    "\n",
    "df = spark_session.read.json(\"hdfs://130.238.28.211:9000/reddit/RC_2011-08.json\") #Change to latest data\n",
    "df.createOrReplaceTempView('park') #preparing dataframe sql\n",
    "df = sc.sql(\"select body,created_utc,subreddit from park\").where(df[\"body\"]!=\"[deleted]\").withColumn(\"hour\",hour(from_unixtime(col(\"created_utc\")))).drop('created_utc')\n",
    "\n",
    "\n",
    "end = time.time()\n",
    "timing.append(end-start)\n",
    "#print(f\"cores={x}, result={result}, elapsed_time={end-start:.3f} seconds\")\n",
    "print(f\"cores=6, elapsed_time={end-start:.3f} seconds\")\n",
    "spark_session.stop()\n",
    "\n",
    "spark_session = SparkSession.builder\\\n",
    "    .master(\"spark://192.168.2.122:7077\") \\\n",
    "    .appName(\"Timing 6 workers 7 cores \")\\\n",
    "    .config(\"spark.cores.max\", f\"7\")\\\n",
    "    .config(\"spark.executor.memory\", \"2g\")\\\n",
    "    .getOrCreate()\n",
    "\n",
    "sc = SQLContext(spark_session.sparkContext)\n",
    "\n",
    "\n",
    "start = time.time()\n",
    "\n",
    "df = spark_session.read.json(\"hdfs://130.238.28.211:9000/reddit/RC_2011-08.json\") #Change to latest data\n",
    "df.createOrReplaceTempView('park') #preparing dataframe sql\n",
    "df = sc.sql(\"select body,created_utc,subreddit from park\").where(df[\"body\"]!=\"[deleted]\").withColumn(\"hour\",hour(from_unixtime(col(\"created_utc\")))).drop('created_utc')\n",
    "\n",
    "\n",
    "end = time.time()\n",
    "timing.append(end-start)\n",
    "#print(f\"cores={x}, result={result}, elapsed_time={end-start:.3f} seconds\")\n",
    "print(f\"cores=7, elapsed_time={end-start:.3f} seconds\")\n",
    "spark_session.stop()\n",
    "\n",
    "spark_session = SparkSession.builder\\\n",
    "    .master(\"spark://192.168.2.122:7077\") \\\n",
    "    .appName(\"Timing 6 workers 8 cores \")\\\n",
    "    .config(\"spark.cores.max\", f\"8\")\\\n",
    "    .config(\"spark.executor.memory\", \"2g\")\\\n",
    "    .getOrCreate()\n",
    "\n",
    "sc = SQLContext(spark_session.sparkContext)\n",
    "\n",
    "\n",
    "start = time.time()\n",
    "\n",
    "df = spark_session.read.json(\"hdfs://130.238.28.211:9000/reddit/RC_2011-08.json\") #Change to latest data\n",
    "df.createOrReplaceTempView('park') #preparing dataframe sql\n",
    "df = sc.sql(\"select body,created_utc,subreddit from park\").where(df[\"body\"]!=\"[deleted]\").withColumn(\"hour\",hour(from_unixtime(col(\"created_utc\")))).drop('created_utc')\n",
    "\n",
    "end = time.time()\n",
    "timing.append(end-start)\n",
    "#print(f\"cores={x}, result={result}, elapsed_time={end-start:.3f} seconds\")\n",
    "print(f\"cores=8, elapsed_time={end-start:.3f} seconds\")\n",
    "spark_session.stop()'''\n",
    "\n",
    "plt.scatter(core,timing)\n",
    "plt.savefig(\"Timing Cores 1-8 For 2 Workers\")"
   ]
  },
  {
   "cell_type": "code",
   "execution_count": null,
   "id": "5b69b442-54cb-4044-bd3d-8d495f5b66b1",
   "metadata": {
    "tags": []
   },
   "outputs": [
    {
     "name": "stdout",
     "output_type": "stream",
     "text": [
      "[821.7422366142273, 413.4541885852814, 304.1297981739044, 228.56539154052734]\n"
     ]
    }
   ],
   "source": [
    "print(timing)"
   ]
  },
  {
   "cell_type": "code",
   "execution_count": null,
   "id": "aafedeb5-7559-4052-a0ca-024786926de7",
   "metadata": {},
   "outputs": [],
   "source": []
  }
 ],
 "metadata": {
  "kernelspec": {
   "display_name": "Python 3 (ipykernel)",
   "language": "python",
   "name": "python3"
  },
  "language_info": {
   "codemirror_mode": {
    "name": "ipython",
    "version": 3
   },
   "file_extension": ".py",
   "mimetype": "text/x-python",
   "name": "python",
   "nbconvert_exporter": "python",
   "pygments_lexer": "ipython3",
   "version": "3.9.2"
  }
 },
 "nbformat": 4,
 "nbformat_minor": 5
}
