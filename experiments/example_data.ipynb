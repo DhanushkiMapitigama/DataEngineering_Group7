{
 "cells": [
  {
   "cell_type": "code",
   "execution_count": 1,
   "id": "c078a763-6542-4dac-886d-0424382508c4",
   "metadata": {
    "tags": []
   },
   "outputs": [
    {
     "name": "stderr",
     "output_type": "stream",
     "text": [
      "23/03/18 13:55:24 WARN NativeCodeLoader: Unable to load native-hadoop library for your platform... using builtin-java classes where applicable\n",
      "Using Spark's default log4j profile: org/apache/spark/log4j-defaults.properties\n",
      "Setting default log level to \"WARN\".\n",
      "To adjust logging level use sc.setLogLevel(newLevel). For SparkR, use setLogLevel(newLevel).\n"
     ]
    }
   ],
   "source": [
    "import pyspark\n",
    "from pyspark.sql import SparkSession, SQLContext, SparkConf\n",
    "\n",
    "spark_session = SparkSession.builder\\\n",
    "    .master(\"spark://192.168.2.102:7077\") \\\n",
    "    .appName(\"experiments\")\\\n",
    "    .config(\"spark.cores.max\", f\"4\")\\\n",
    "    .getOrCreate()\n",
    "\n",
    "sc = SQLContext(spark_session.sparkContext)"
   ]
  },
  {
   "cell_type": "code",
   "execution_count": 11,
   "id": "2a7bfd02-6a73-40b1-94d7-f8031b94df6a",
   "metadata": {
    "tags": []
   },
   "outputs": [
    {
     "name": "stderr",
     "output_type": "stream",
     "text": [
      "                                                                                \r"
     ]
    }
   ],
   "source": [
    "# load data from hdfs into dataframe with header\n",
    "# df = sc.textFile('hdfs://130.238.29.139:9000/reddit/RC_2005-12.json'),\n",
    "# df.take(5)\n",
    "from pyspark.sql.functions import *\n",
    "\n",
    "df = spark_session.read.json(\"hdfs://130.238.29.139:9000/reddit/RC_2005-12.json\") #Change to latest data\n",
    "df.createOrReplaceTempView('park') #preparing dataframe sql\n",
    "df = sc.sql(\"select body,created_utc,subreddit from park\").where(df[\"body\"]!=\"[deleted]\").withColumn(\"hour\",hour(from_unixtime(col(\"created_utc\")))).drop('created_utc')"
   ]
  },
  {
   "cell_type": "code",
   "execution_count": 13,
   "id": "e2a68379-e239-43e5-b42f-f8fe527cbf56",
   "metadata": {
    "tags": []
   },
   "outputs": [
    {
     "name": "stdout",
     "output_type": "stream",
     "text": [
      "+--------------------+----------+----+\n",
      "|                body| subreddit|hour|\n",
      "+--------------------+----------+----+\n",
      "|A look at Vietnam...|reddit.com|   5|\n",
      "|The site states \"...|reddit.com|   5|\n",
      "|Jython related to...|reddit.com|   5|\n",
      "|Saft is by far th...|reddit.com|   6|\n",
      "|How to take panor...|reddit.com|   7|\n",
      "|I donât know wh...|reddit.com|   7|\n",
      "|LinkIt by Marc, a...|reddit.com|   8|\n",
      "|Making websites r...|reddit.com|   9|\n",
      "|On the bright sid...|reddit.com|   9|\n",
      "|Like a lot of peo...|reddit.com|  10|\n",
      "|This is comment t...|reddit.com|  11|\n",
      "|It's a New York T...|reddit.com|  11|\n",
      "|[Here's the copy ...|reddit.com|  11|\n",
      "|The best thing ab...|reddit.com|  11|\n",
      "|You can rank the ...|reddit.com|  11|\n",
      "|just testing this...|reddit.com|  11|\n",
      "|               ye ye|reddit.com|  11|\n",
      "|_We didn't tortur...|reddit.com|  11|\n",
      "|Interesting artic...|reddit.com|  11|\n",
      "|reddit got a \"run...|reddit.com|  11|\n",
      "+--------------------+----------+----+\n",
      "only showing top 20 rows\n",
      "\n"
     ]
    }
   ],
   "source": [
    "df.show()"
   ]
  },
  {
   "cell_type": "code",
   "execution_count": null,
   "id": "61fec244-52dc-4c64-8826-ce07919913e6",
   "metadata": {},
   "outputs": [],
   "source": []
  }
 ],
 "metadata": {
  "kernelspec": {
   "display_name": "Python 3 (ipykernel)",
   "language": "python",
   "name": "python3"
  },
  "language_info": {
   "codemirror_mode": {
    "name": "ipython",
    "version": 3
   },
   "file_extension": ".py",
   "mimetype": "text/x-python",
   "name": "python",
   "nbconvert_exporter": "python",
   "pygments_lexer": "ipython3",
   "version": "3.9.2"
  }
 },
 "nbformat": 4,
 "nbformat_minor": 5
}
