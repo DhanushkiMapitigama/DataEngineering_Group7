{
 "cells": [
  {
   "cell_type": "code",
   "execution_count": 28,
   "id": "5f15e00c-0251-4bf4-abcc-c3f0d7d5fc02",
   "metadata": {
    "tags": []
   },
   "outputs": [
    {
     "name": "stderr",
     "output_type": "stream",
     "text": [
      "                                                                                \r"
     ]
    },
    {
     "name": "stdout",
     "output_type": "stream",
     "text": [
      "cores=1, elapsed_time=1591.563 seconds\n"
     ]
    },
    {
     "name": "stderr",
     "output_type": "stream",
     "text": [
      "                                                                                \r"
     ]
    },
    {
     "name": "stdout",
     "output_type": "stream",
     "text": [
      "cores=2, elapsed_time=812.244 seconds\n"
     ]
    },
    {
     "name": "stderr",
     "output_type": "stream",
     "text": [
      "                                                                                \r"
     ]
    },
    {
     "name": "stdout",
     "output_type": "stream",
     "text": [
      "cores=3, elapsed_time=557.071 seconds\n"
     ]
    },
    {
     "name": "stderr",
     "output_type": "stream",
     "text": [
      "                                                                                \r"
     ]
    },
    {
     "name": "stdout",
     "output_type": "stream",
     "text": [
      "cores=4, elapsed_time=413.152 seconds\n"
     ]
    },
    {
     "name": "stderr",
     "output_type": "stream",
     "text": [
      "                                                                                \r"
     ]
    },
    {
     "name": "stdout",
     "output_type": "stream",
     "text": [
      "cores=5, elapsed_time=334.917 seconds\n"
     ]
    },
    {
     "name": "stderr",
     "output_type": "stream",
     "text": [
      "                                                                                \r"
     ]
    },
    {
     "name": "stdout",
     "output_type": "stream",
     "text": [
      "cores=6, elapsed_time=293.367 seconds\n"
     ]
    },
    {
     "name": "stderr",
     "output_type": "stream",
     "text": [
      "                                                                                \r"
     ]
    },
    {
     "name": "stdout",
     "output_type": "stream",
     "text": [
      "cores=7, elapsed_time=252.818 seconds\n"
     ]
    },
    {
     "name": "stderr",
     "output_type": "stream",
     "text": [
      "                                                                                \r"
     ]
    },
    {
     "name": "stdout",
     "output_type": "stream",
     "text": [
      "cores=8, elapsed_time=233.855 seconds\n"
     ]
    },
    {
     "ename": "NameError",
     "evalue": "name 'plt' is not defined",
     "output_type": "error",
     "traceback": [
      "\u001b[0;31m---------------------------------------------------------------------------\u001b[0m",
      "\u001b[0;31mNameError\u001b[0m                                 Traceback (most recent call last)",
      "Cell \u001b[0;32mIn[28], line 189\u001b[0m\n\u001b[1;32m    186\u001b[0m \u001b[38;5;28mprint\u001b[39m(\u001b[38;5;124mf\u001b[39m\u001b[38;5;124m\"\u001b[39m\u001b[38;5;124mcores=8, elapsed_time=\u001b[39m\u001b[38;5;132;01m{\u001b[39;00mend\u001b[38;5;241m-\u001b[39mstart\u001b[38;5;132;01m:\u001b[39;00m\u001b[38;5;124m.3f\u001b[39m\u001b[38;5;132;01m}\u001b[39;00m\u001b[38;5;124m seconds\u001b[39m\u001b[38;5;124m\"\u001b[39m)\n\u001b[1;32m    187\u001b[0m spark_session\u001b[38;5;241m.\u001b[39mstop()\n\u001b[0;32m--> 189\u001b[0m \u001b[43mplt\u001b[49m\u001b[38;5;241m.\u001b[39mscatter(core,timing)\n\u001b[1;32m    190\u001b[0m plt\u001b[38;5;241m.\u001b[39msavefig(\u001b[38;5;124m\"\u001b[39m\u001b[38;5;124mTiming Cores 1-8 For 6 Workers\u001b[39m\u001b[38;5;124m\"\u001b[39m)\n",
      "\u001b[0;31mNameError\u001b[0m: name 'plt' is not defined"
     ]
    }
   ],
   "source": [
    "import pyspark\n",
    "import time\n",
    "from pyspark.sql import SparkSession, SQLContext\n",
    "from pyspark.sql.functions import *\n",
    "\n",
    "timing=[]\n",
    "core=(1, 2, 3, 4, 5, 6, 7, 8)\n",
    "\n",
    "spark_session = SparkSession.builder\\\n",
    "    .master(\"spark://192.168.2.122:7077\") \\\n",
    "    .appName(\"Timing 6 workers 1 core \")\\\n",
    "    .config(\"spark.cores.max\", f\"1\")\\\n",
    "    .config(\"spark.executor.memory\", \"2g\")\\\n",
    "    .getOrCreate()\n",
    "\n",
    "sc = SQLContext(spark_session.sparkContext)\n",
    "\n",
    "\n",
    "\n",
    "start = time.time()\n",
    "\n",
    "df = spark_session.read.json(\"hdfs://130.238.28.211:9000/reddit/RC_2011-08.json\") #Change to latest data\n",
    "df.createOrReplaceTempView('park') #preparing dataframe sql\n",
    "df = sc.sql(\"select body,created_utc,subreddit from park\").where(df[\"body\"]!=\"[deleted]\").withColumn(\"hour\",hour(from_unixtime(col(\"created_utc\")))).drop('created_utc')\n",
    "\n",
    "end = time.time()\n",
    "timing.append(end-start)\n",
    "#print(f\"cores={x}, result={result}, elapsed_time={end-start:.3f} seconds\")\n",
    "print(f\"cores=1, elapsed_time={end-start:.3f} seconds\")\n",
    "spark_session.stop()\n",
    "\n",
    "spark_session = SparkSession.builder\\\n",
    "    .master(\"spark://192.168.2.122:7077\") \\\n",
    "    .appName(\"Timing 6 workers 2 cores \")\\\n",
    "    .config(\"spark.cores.max\", f\"2\")\\\n",
    "    .config(\"spark.executor.memory\", \"2g\")\\\n",
    "    .getOrCreate()\n",
    "\n",
    "sc = SQLContext(spark_session.sparkContext)\n",
    "\n",
    "\n",
    "start = time.time()\n",
    "\n",
    "df = spark_session.read.json(\"hdfs://130.238.28.211:9000/reddit/RC_2011-08.json\") #Change to latest data\n",
    "df.createOrReplaceTempView('park') #preparing dataframe sql\n",
    "df = sc.sql(\"select body,created_utc,subreddit from park\").where(df[\"body\"]!=\"[deleted]\").withColumn(\"hour\",hour(from_unixtime(col(\"created_utc\")))).drop('created_utc')\n",
    "\n",
    "end = time.time()\n",
    "timing.append(end-start)\n",
    "#print(f\"cores={x}, result={result}, elapsed_time={end-start:.3f} seconds\")\n",
    "print(f\"cores=2, elapsed_time={end-start:.3f} seconds\")\n",
    "spark_session.stop()\n",
    "\n",
    "spark_session = SparkSession.builder\\\n",
    "    .master(\"spark://192.168.2.122:7077\") \\\n",
    "    .appName(\"Timing 6 workers 3 cores \")\\\n",
    "    .config(\"spark.cores.max\", f\"3\")\\\n",
    "    .config(\"spark.executor.memory\", \"2g\")\\\n",
    "    .getOrCreate()\n",
    "\n",
    "sc = SQLContext(spark_session.sparkContext)\n",
    "\n",
    "\n",
    "start = time.time()\n",
    "\n",
    "df = spark_session.read.json(\"hdfs://130.238.28.211:9000/reddit/RC_2011-08.json\") #Change to latest data\n",
    "df.createOrReplaceTempView('park') #preparing dataframe sql\n",
    "df = sc.sql(\"select body,created_utc,subreddit from park\").where(df[\"body\"]!=\"[deleted]\").withColumn(\"hour\",hour(from_unixtime(col(\"created_utc\")))).drop('created_utc')\n",
    "\n",
    "end = time.time()\n",
    "timing.append(end-start)\n",
    "#print(f\"cores={x}, result={result}, elapsed_time={end-start:.3f} seconds\")\n",
    "print(f\"cores=3, elapsed_time={end-start:.3f} seconds\")\n",
    "spark_session.stop()\n",
    "\n",
    "spark_session = SparkSession.builder\\\n",
    "    .master(\"spark://192.168.2.122:7077\") \\\n",
    "    .appName(\"Timing 6 workers 4 cores \")\\\n",
    "    .config(\"spark.cores.max\", f\"4\")\\\n",
    "    .config(\"spark.executor.memory\", \"2g\")\\\n",
    "    .getOrCreate()\n",
    "\n",
    "sc = SQLContext(spark_session.sparkContext)\n",
    "\n",
    "\n",
    "start = time.time()\n",
    "\n",
    "df = spark_session.read.json(\"hdfs://130.238.28.211:9000/reddit/RC_2011-08.json\") #Change to latest data\n",
    "df.createOrReplaceTempView('park') #preparing dataframe sql\n",
    "df = sc.sql(\"select body,created_utc,subreddit from park\").where(df[\"body\"]!=\"[deleted]\").withColumn(\"hour\",hour(from_unixtime(col(\"created_utc\")))).drop('created_utc')\n",
    "\n",
    "\n",
    "end = time.time()\n",
    "timing.append(end-start)\n",
    "#print(f\"cores={x}, result={result}, elapsed_time={end-start:.3f} seconds\")\n",
    "print(f\"cores=4, elapsed_time={end-start:.3f} seconds\")\n",
    "spark_session.stop()\n",
    "\n",
    "spark_session = SparkSession.builder\\\n",
    "    .master(\"spark://192.168.2.122:7077\") \\\n",
    "    .appName(\"Timing 6 workers 5 cores \")\\\n",
    "    .config(\"spark.cores.max\", f\"5\")\\\n",
    "    .config(\"spark.executor.memory\", \"2g\")\\\n",
    "    .getOrCreate()\n",
    "\n",
    "sc = SQLContext(spark_session.sparkContext)\n",
    "\n",
    "\n",
    "start = time.time()\n",
    "\n",
    "df = spark_session.read.json(\"hdfs://130.238.28.211:9000/reddit/RC_2011-08.json\") #Change to latest data\n",
    "df.createOrReplaceTempView('park') #preparing dataframe sql\n",
    "df = sc.sql(\"select body,created_utc,subreddit from park\").where(df[\"body\"]!=\"[deleted]\").withColumn(\"hour\",hour(from_unixtime(col(\"created_utc\")))).drop('created_utc')\n",
    "\n",
    "\n",
    "end = time.time()\n",
    "timing.append(end-start)\n",
    "#print(f\"cores={x}, result={result}, elapsed_time={end-start:.3f} seconds\")\n",
    "print(f\"cores=5, elapsed_time={end-start:.3f} seconds\")\n",
    "spark_session.stop()\n",
    "\n",
    "spark_session = SparkSession.builder\\\n",
    "    .master(\"spark://192.168.2.122:7077\") \\\n",
    "    .appName(\"Timing 6 workers 6 cores \")\\\n",
    "    .config(\"spark.cores.max\", f\"6\")\\\n",
    "    .config(\"spark.executor.memory\", \"2g\")\\\n",
    "    .getOrCreate()\n",
    "\n",
    "sc = SQLContext(spark_session.sparkContext)\n",
    "\n",
    "\n",
    "start = time.time()\n",
    "\n",
    "df = spark_session.read.json(\"hdfs://130.238.28.211:9000/reddit/RC_2011-08.json\") #Change to latest data\n",
    "df.createOrReplaceTempView('park') #preparing dataframe sql\n",
    "df = sc.sql(\"select body,created_utc,subreddit from park\").where(df[\"body\"]!=\"[deleted]\").withColumn(\"hour\",hour(from_unixtime(col(\"created_utc\")))).drop('created_utc')\n",
    "\n",
    "\n",
    "end = time.time()\n",
    "timing.append(end-start)\n",
    "#print(f\"cores={x}, result={result}, elapsed_time={end-start:.3f} seconds\")\n",
    "print(f\"cores=6, elapsed_time={end-start:.3f} seconds\")\n",
    "spark_session.stop()\n",
    "\n",
    "spark_session = SparkSession.builder\\\n",
    "    .master(\"spark://192.168.2.122:7077\") \\\n",
    "    .appName(\"Timing 6 workers 7 cores \")\\\n",
    "    .config(\"spark.cores.max\", f\"7\")\\\n",
    "    .config(\"spark.executor.memory\", \"2g\")\\\n",
    "    .getOrCreate()\n",
    "\n",
    "sc = SQLContext(spark_session.sparkContext)\n",
    "\n",
    "\n",
    "start = time.time()\n",
    "\n",
    "df = spark_session.read.json(\"hdfs://130.238.28.211:9000/reddit/RC_2011-08.json\") #Change to latest data\n",
    "df.createOrReplaceTempView('park') #preparing dataframe sql\n",
    "df = sc.sql(\"select body,created_utc,subreddit from park\").where(df[\"body\"]!=\"[deleted]\").withColumn(\"hour\",hour(from_unixtime(col(\"created_utc\")))).drop('created_utc')\n",
    "\n",
    "\n",
    "end = time.time()\n",
    "timing.append(end-start)\n",
    "#print(f\"cores={x}, result={result}, elapsed_time={end-start:.3f} seconds\")\n",
    "print(f\"cores=7, elapsed_time={end-start:.3f} seconds\")\n",
    "spark_session.stop()\n",
    "\n",
    "spark_session = SparkSession.builder\\\n",
    "    .master(\"spark://192.168.2.122:7077\") \\\n",
    "    .appName(\"Timing 6 workers 8 cores \")\\\n",
    "    .config(\"spark.cores.max\", f\"8\")\\\n",
    "    .config(\"spark.executor.memory\", \"2g\")\\\n",
    "    .getOrCreate()\n",
    "\n",
    "sc = SQLContext(spark_session.sparkContext)\n",
    "\n",
    "\n",
    "start = time.time()\n",
    "\n",
    "df = spark_session.read.json(\"hdfs://130.238.28.211:9000/reddit/RC_2011-08.json\") #Change to latest data\n",
    "df.createOrReplaceTempView('park') #preparing dataframe sql\n",
    "df = sc.sql(\"select body,created_utc,subreddit from park\").where(df[\"body\"]!=\"[deleted]\").withColumn(\"hour\",hour(from_unixtime(col(\"created_utc\")))).drop('created_utc')\n",
    "\n",
    "end = time.time()\n",
    "timing.append(end-start)\n",
    "#print(f\"cores={x}, result={result}, elapsed_time={end-start:.3f} seconds\")\n",
    "print(f\"cores=8, elapsed_time={end-start:.3f} seconds\")\n",
    "spark_session.stop()\n",
    "\n",
    "plt.scatter(core,timing)\n",
    "plt.savefig(\"Timing Cores 1-8 For 6 Workers\")"
   ]
  },
  {
   "cell_type": "code",
   "execution_count": 31,
   "id": "4ed95b26-c53e-44fd-b339-a93c007af15c",
   "metadata": {},
   "outputs": [
    {
     "name": "stdout",
     "output_type": "stream",
     "text": [
      "[1591.5625426769257, 812.2444763183594, 557.0714952945709, 413.1517114639282, 334.91660356521606, 293.36697244644165, 252.81782293319702, 233.85540008544922]\n"
     ]
    }
   ],
   "source": [
    "print(timing)"
   ]
  },
  {
   "cell_type": "code",
   "execution_count": 32,
   "id": "ed4a4c7d-9512-4d4e-be54-f86266ac42cf",
   "metadata": {
    "tags": []
   },
   "outputs": [],
   "source": [
    "import matplotlib.pyplot as plt"
   ]
  },
  {
   "cell_type": "code",
   "execution_count": 33,
   "id": "5c556115-5d1c-44b5-ad6c-d27385026e85",
   "metadata": {
    "tags": []
   },
   "outputs": [
    {
     "data": {
      "image/png": "[encoded data removed]",
      "text/plain": [
       "<Figure size 640x480 with 1 Axes>"
      ]
     },
     "metadata": {},
     "output_type": "display_data"
    }
   ],
   "source": [
    "plt.scatter(core,timing)\n",
    "plt.savefig(\"Timing Cores 1-8 For 6 Workers\")"
   ]
  },
  {
   "cell_type": "code",
   "execution_count": null,
   "id": "6a82df83-974a-4356-8f17-f3b12bbefc80",
   "metadata": {},
   "outputs": [],
   "source": []
  }
 ],
 "metadata": {
  "kernelspec": {
   "display_name": "Python 3 (ipykernel)",
   "language": "python",
   "name": "python3"
  },
  "language_info": {
   "codemirror_mode": {
    "name": "ipython",
    "version": 3
   },
   "file_extension": ".py",
   "mimetype": "text/x-python",
   "name": "python",
   "nbconvert_exporter": "python",
   "pygments_lexer": "ipython3",
   "version": "3.9.2"
  }
 },
 "nbformat": 4,
 "nbformat_minor": 5
}
