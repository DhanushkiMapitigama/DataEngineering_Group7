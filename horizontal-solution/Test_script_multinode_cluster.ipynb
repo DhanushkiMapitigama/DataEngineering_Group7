{
 "cells": [
  {
   "cell_type": "code",
   "execution_count": 1,
   "metadata": {},
   "outputs": [
    {
     "name": "stderr",
     "output_type": "stream",
     "text": [
      "/opt/conda/lib/python3.8/site-packages/pyspark/sql/context.py:112: FutureWarning: Deprecated in 3.0.0. Use SparkSession.builder.getOrCreate() instead.\n",
      "  warnings.warn(\n"
     ]
    },
    {
     "name": "stdout",
     "output_type": "stream",
     "text": [
      "Pi is roughly 3.14156\n"
     ]
    }
   ],
   "source": [
    "from pyspark.sql import SparkSession,SQLContext\n",
    "\n",
    "spark_2 = SparkSession.builder \\\n",
    "    .appName(\"Pi Calculation\") \\\n",
    "    .master(\"spark://192.168.2.107:7077\") \\\n",
    "    .config(\"spark.cores.max\", 1) \\\n",
    "    .getOrCreate()\n",
    "\n",
    "sqlContext = SQLContext(spark_2.sparkContext)\n",
    "sc = spark_2.sparkContext\n",
    "\n",
    "import random\n",
    "\n",
    "num_samples = 100000\n",
    "\n",
    "def inside(p):\n",
    "    x, y = random.random(), random.random()\n",
    "    return x * x + y * y < 1\n",
    "\n",
    "count = sc.parallelize(range(0, num_samples)).filter(inside).count()\n",
    "pi = 4 * count / num_samples\n",
    "print(\"Pi is roughly\", pi)\n",
    "spark_2.stop()"
   ]
  },
  {
   "cell_type": "code",
   "execution_count": null,
   "metadata": {},
   "outputs": [],
   "source": []
  }
 ],
 "metadata": {
  "kernelspec": {
   "display_name": "Python 3",
   "language": "python",
   "name": "python3"
  },
  "language_info": {
   "codemirror_mode": {
    "name": "ipython",
    "version": 3
   },
   "file_extension": ".py",
   "mimetype": "text/x-python",
   "name": "python",
   "nbconvert_exporter": "python",
   "pygments_lexer": "ipython3",
   "version": "3.8.3"
  }
 },
 "nbformat": 4,
 "nbformat_minor": 4
}
